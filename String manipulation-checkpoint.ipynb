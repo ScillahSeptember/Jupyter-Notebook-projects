{
 "cells": [
  {
   "cell_type": "code",
   "execution_count": 20,
   "id": "9d488464-8f4f-4ab9-9cbb-fdce9279226c",
   "metadata": {},
   "outputs": [
    {
     "name": "stdout",
     "output_type": "stream",
     "text": [
      " Nkuna\n",
      "Prisc\n",
      "Nkuna\n",
      "illa \n"
     ]
    }
   ],
   "source": [
    "#STRING SLICING\n",
    "\n",
    "#PRINT FROM CHAR NO.9\n",
    "a = 'Priscilla Nkuna'\n",
    "print(a[9:15])\n",
    "\n",
    "#PRINT THE 1ST 5 CHAR.\n",
    "b = \"Priscilla Nkuna\"\n",
    "print(b[:5])\n",
    "\n",
    "#PRINT FROM THE SPECIFIED NO. TO THE LAST CHAR\n",
    "c = 'Priscilla Nkuna'\n",
    "print(a[10:])\n",
    "\n",
    "#NEGATIVE INDEXING(minus characters)\n",
    "d = \"Priscilla Nkuna\"\n",
    "print(d[-10:-5])"
   ]
  },
  {
   "cell_type": "code",
   "execution_count": 52,
   "id": "51bea493-0324-4c2a-8539-fd2605b7844e",
   "metadata": {},
   "outputs": [
    {
     "name": "stdout",
     "output_type": "stream",
     "text": [
      "PRISCILLA NKUNA\n",
      "priscilla nkuna\n",
      "Priscilla Nkuna\n",
      "Priscilla Pkuna\n",
      "['Priscilla Nkuna']\n"
     ]
    }
   ],
   "source": [
    "#MODIFYING STRING\n",
    "\n",
    "#UPPERCASE \n",
    "a = \"Priscilla Nkuna\"\n",
    "print (a.upper())\n",
    "\n",
    "#LOWERCASE\n",
    "b = \"PRISCILLA NKUNA\"\n",
    "print(b.lower())\n",
    "\n",
    "#REMOVE WHITESPACE(removes any whitespace from beginning or end)\n",
    "c = \"  Priscilla Nkuna  \"\n",
    "print(c.strip())\n",
    "\n",
    "#REPLACE STRING \n",
    "d = \"Priscilla Nkuna\"\n",
    "print(d.replace(\"N\",\"P\"))\n",
    "\n",
    "#SPLIT STRING\n",
    "e = \"Priscilla Nkuna\"\n",
    "print(e.split(\",\"))"
   ]
  },
  {
   "cell_type": "code",
   "execution_count": 64,
   "id": "6fa561d7-bf8f-41b5-9bc2-d3e82968b760",
   "metadata": {},
   "outputs": [
    {
     "name": "stdout",
     "output_type": "stream",
     "text": [
      "My name is John, I am 36\n",
      "The price is 59 dollars\n",
      "The price is 59.00 dollars\n",
      "The price is 1180 dollars\n"
     ]
    }
   ],
   "source": [
    " #STRING FORMMATTING \n",
    "\n",
    "#CREATING AN f STRING \n",
    "age = 36\n",
    "txt = f\"My name is John, I am {age}\"\n",
    "print(txt)\n",
    "\n",
    "#PLACEHOLDERS \n",
    "price = 59\n",
    "txt = f\"The price is {price} dollars\"\n",
    "print(txt)\n",
    "\n",
    "#DISPLAY PRICE IN 2 DECIMAL PLACES\n",
    "price = 59\n",
    "txt = f\"The price is {price:.2f} dollars\"\n",
    "print(txt)\n",
    "\n",
    "#MATHEMATICAL OPERATOR PLACE HOLDER\n",
    "txt = f\"The price is {20 * 59} dollars\"\n",
    "print(txt)"
   ]
  },
  {
   "cell_type": "code",
   "execution_count": null,
   "id": "2ab6e095-254a-4f56-ab97-caa3405fc760",
   "metadata": {},
   "outputs": [],
   "source": []
  }
 ],
 "metadata": {
  "kernelspec": {
   "display_name": "Python 3 (ipykernel)",
   "language": "python",
   "name": "python3"
  },
  "language_info": {
   "codemirror_mode": {
    "name": "ipython",
    "version": 3
   },
   "file_extension": ".py",
   "mimetype": "text/x-python",
   "name": "python",
   "nbconvert_exporter": "python",
   "pygments_lexer": "ipython3",
   "version": "3.12.4"
  }
 },
 "nbformat": 4,
 "nbformat_minor": 5
}
