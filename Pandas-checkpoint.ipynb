{
 "cells": [
  {
   "cell_type": "code",
   "execution_count": 17,
   "id": "c5af691d-3b10-4801-9550-6849882aa69a",
   "metadata": {},
   "outputs": [
    {
     "name": "stdout",
     "output_type": "stream",
     "text": [
      "   PRICE  QUANTITY\n",
      "0     20       500\n",
      "1     21         1\n",
      "2     19        50\n",
      "3     18         9\n",
      "4     17         5\n"
     ]
    },
    {
     "data": {
      "text/html": [
       "<div>\n",
       "<style scoped>\n",
       "    .dataframe tbody tr th:only-of-type {\n",
       "        vertical-align: middle;\n",
       "    }\n",
       "\n",
       "    .dataframe tbody tr th {\n",
       "        vertical-align: top;\n",
       "    }\n",
       "\n",
       "    .dataframe thead th {\n",
       "        text-align: right;\n",
       "    }\n",
       "</style>\n",
       "<table border=\"1\" class=\"dataframe\">\n",
       "  <thead>\n",
       "    <tr style=\"text-align: right;\">\n",
       "      <th></th>\n",
       "      <th>PRICE</th>\n",
       "      <th>QUANTITY</th>\n",
       "    </tr>\n",
       "  </thead>\n",
       "  <tbody>\n",
       "    <tr>\n",
       "      <th>0</th>\n",
       "      <td>400</td>\n",
       "      <td>250000</td>\n",
       "    </tr>\n",
       "    <tr>\n",
       "      <th>1</th>\n",
       "      <td>441</td>\n",
       "      <td>1</td>\n",
       "    </tr>\n",
       "    <tr>\n",
       "      <th>2</th>\n",
       "      <td>361</td>\n",
       "      <td>2500</td>\n",
       "    </tr>\n",
       "    <tr>\n",
       "      <th>3</th>\n",
       "      <td>324</td>\n",
       "      <td>81</td>\n",
       "    </tr>\n",
       "    <tr>\n",
       "      <th>4</th>\n",
       "      <td>289</td>\n",
       "      <td>25</td>\n",
       "    </tr>\n",
       "  </tbody>\n",
       "</table>\n",
       "</div>"
      ],
      "text/plain": [
       "   PRICE  QUANTITY\n",
       "0    400    250000\n",
       "1    441         1\n",
       "2    361      2500\n",
       "3    324        81\n",
       "4    289        25"
      ]
     },
     "execution_count": 17,
     "metadata": {},
     "output_type": "execute_result"
    }
   ],
   "source": [
    "import pandas as pd\n",
    " \n",
    "# intialise data of lists. Product, Price, and Quantity.\n",
    "#data = {'PRODUCT':['Rice', 'Peanuts', 'Beans', 'Water', 'oil'],\n",
    "     #   'PRICE':[20, 21, 19, 18, 17],\n",
    "       # 'QUANTITY':[500, 1, 50, 9, 5]}\n",
    "data = {\n",
    "        'PRICE':[20, 21, 19, 18, 17],\n",
    "        'QUANTITY':[500, 1, 50, 9, 5]}\n",
    "\n",
    "# Creating the first dataframe \n",
    "df1=pd.DataFrame({\"A\":[14,4,5,4,1],\n",
    "                  \"B\":[5,2,54,3,2],\n",
    "                  \"C\":[20,20,7,3,8],\n",
    "                  \"D\":[14,3,6,2,6]})\n",
    " \n",
    "# Create DataFrame\n",
    "df = pd.DataFrame(data)\n",
    " \n",
    "# Print the output.\n",
    "print(df)\n",
    "\n",
    "# find multiplication over the index axis\n",
    "df.mul(df, axis = 0)\n",
    "\n",
    "df1.mul(df2, fill_value = 100)\n"
   ]
  },
  {
   "cell_type": "code",
   "execution_count": null,
   "id": "31b7221f-6869-4550-9e52-2a188794f49b",
   "metadata": {},
   "outputs": [],
   "source": []
  }
 ],
 "metadata": {
  "kernelspec": {
   "display_name": "Python 3 (ipykernel)",
   "language": "python",
   "name": "python3"
  },
  "language_info": {
   "codemirror_mode": {
    "name": "ipython",
    "version": 3
   },
   "file_extension": ".py",
   "mimetype": "text/x-python",
   "name": "python",
   "nbconvert_exporter": "python",
   "pygments_lexer": "ipython3",
   "version": "3.12.4"
  }
 },
 "nbformat": 4,
 "nbformat_minor": 5
}
