{
 "cells": [
  {
   "cell_type": "code",
   "execution_count": 7,
   "id": "e7b36c9f-b99b-4ef2-8053-832cf80bf668",
   "metadata": {},
   "outputs": [
    {
     "name": "stdout",
     "output_type": "stream",
     "text": [
      "Priscilla\n"
     ]
    }
   ],
   "source": [
    "#CALLING A FUNCTION\n",
    "def name():\n",
    "    print(\"Priscilla\")\n",
    "name()\n"
   ]
  },
  {
   "cell_type": "code",
   "execution_count": 84,
   "id": "578e097e-1bbc-477f-854f-160ddd1935bf",
   "metadata": {},
   "outputs": [
    {
     "name": "stdout",
     "output_type": "stream",
     "text": [
      "Priscilla Nkuna\n",
      "Priscilla Nkuna\n",
      "Linus Nkuna\n",
      "the brightest student is :Lance\n",
      "the brightest student is: priscilla\n",
      "The brightest student is : Priscilla\n",
      "my name is :Pretty\n",
      "my name is :Lance\n",
      "my name is :priscilla\n",
      "my name is :Brian\n",
      "i10\n",
      "i20\n",
      "i30\n",
      "Grand i10\n",
      "100\n",
      "200\n",
      "300\n",
      "400\n"
     ]
    }
   ],
   "source": [
    "#PASSING ARGUMNETS\n",
    "#ARGUMENTS - information that are passed into a function.\n",
    "def my_function(fname):\n",
    "  print(fname + \" Nkuna\")\n",
    "\n",
    "my_function(\"Priscilla\")\n",
    "my_function(\"Priscilla\")\n",
    "my_function(\"Linus\")\n",
    "\n",
    "#Arbitrary Arguments, *args\n",
    "#If you do not know how many arguments that will be passed into your function, add a * before the parameter name in the function definition\n",
    "def my_function(*employees):\n",
    " print(\"the brightest student is :\" + employees[2])\n",
    "my_function(\"pretty\",\"priscilla\",\"Lance\")\n",
    "\n",
    "#You can also send arguments with the key = value syntax.\n",
    "def my_function(student1, student2, student3):\n",
    " print(\"the brightest student is: \" + student2)\n",
    "my_function(student1 = \"lance\",student2 = \"priscilla\",student3 = \"pretty\")\n",
    "\n",
    "#If you dont know how many keyword arguments thatll be passed into your function, add 2 asterisk: ** before the parameter name in the function definition.\n",
    "#This way the function will receive a dictionary of arguments, and can access the items accordingly\n",
    "def my_function(student1, student2, student3):\n",
    "    print(\"The brightest student is : \" + student1)\n",
    "my_function(student1 = \"Priscilla\", student2 = \"Lance\" , student3 = \"Pretty\")\n",
    "\n",
    "#Default Parameter Value\n",
    "def my_function( name = \"priscilla\"):\n",
    "    print(\"my name is :\" + name)\n",
    "my_function(\"Pretty\")\n",
    "my_function(\"Lance\")\n",
    "my_function()\n",
    "my_function(\"Brian\")\n",
    "    \n",
    " #Passing a List as an Argument\n",
    "def my_function(cars):\n",
    "    for x in cars:\n",
    "     print(x)\n",
    "\n",
    "Hundai=[\"i10\", \"i20\", \"i30\", \"Grand i10\"]\n",
    "my_function(Hundai)\n",
    "\n",
    "#Return Values\n",
    "def my_function(x):\n",
    "    return 10 * x\n",
    "\n",
    "print(my_function(10))\n",
    "print(my_function(20))\n",
    "print(my_function(30))\n",
    "print(my_function(40))\n",
    "\n",
    "#The pass Statement\n",
    "def my_function():\n",
    "    pass\n",
    "\n",
    "\n"
   ]
  },
  {
   "cell_type": "code",
   "execution_count": null,
   "id": "ec00d188-3bcb-4182-a303-21bd76700757",
   "metadata": {},
   "outputs": [],
   "source": []
  }
 ],
 "metadata": {
  "kernelspec": {
   "display_name": "Python 3 (ipykernel)",
   "language": "python",
   "name": "python3"
  },
  "language_info": {
   "codemirror_mode": {
    "name": "ipython",
    "version": 3
   },
   "file_extension": ".py",
   "mimetype": "text/x-python",
   "name": "python",
   "nbconvert_exporter": "python",
   "pygments_lexer": "ipython3",
   "version": "3.12.4"
  }
 },
 "nbformat": 4,
 "nbformat_minor": 5
}
