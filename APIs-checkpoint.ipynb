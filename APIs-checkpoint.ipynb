{
 "cells": [
  {
   "cell_type": "code",
   "execution_count": null,
   "id": "8dd4857d-39df-4942-ac5b-fcb0442c75d7",
   "metadata": {},
   "outputs": [],
   "source": [
    "import requests\n",
    "response = requests.get(link/APIs)\n",
    "print(response.text)\n",
    "print(response.JSON())\n",
    "fox = response.json()\n",
    "print(fox[\"image])"
   ]
  },
  {
   "cell_type": "code",
   "execution_count": 1,
   "id": "e0865430-6315-47f5-a4fe-a88476145af6",
   "metadata": {},
   "outputs": [
    {
     "name": "stdout",
     "output_type": "stream",
     "text": [
      "Name: Pikachu\n",
      "Id: 25\n",
      "Height: 4\n",
      "Weight: 60\n"
     ]
    }
   ],
   "source": [
    "#HOW TO CONNECT TO AN API USING PYTHON\n",
    "import requests\n",
    "\n",
    "base_url = \"https://pokeapi.co/api/v2/\"\n",
    "\n",
    "def get_pokemon_info(name):\n",
    "    url = f\"{base_url}/pokemon/{name}\"\n",
    "    response = requests.get(url)\n",
    "\n",
    "    if response.status_code == 200:\n",
    "        pokemon_data = response.json()\n",
    "        return pokemon_data\n",
    "    else:\n",
    "        print(f\"Failed to retrieve data {response.status_code}\")\n",
    "\n",
    "pokemon_name = \"pikachu\"\n",
    "pokemon_info = get_pokemon_info(pokemon_name)\n",
    "\n",
    "if pokemon_info:\n",
    "    print(f\"Name: {pokemon_info[\"name\"].capitalize()}\")\n",
    "    print(f\"Id: {pokemon_info[\"id\"]}\")\n",
    "    print(f\"Height: {pokemon_info[\"height\"]}\")\n",
    "    print(f\"Weight: {pokemon_info[\"weight\"]}\")\n"
   ]
  },
  {
   "cell_type": "code",
   "execution_count": 29,
   "id": "aae7a2db-2cb5-4ceb-96ce-9bb0c2d33417",
   "metadata": {},
   "outputs": [
    {
     "name": "stdout",
     "output_type": "stream",
     "text": [
      "{'success': False, 'error': {'code': 101, 'type': 'missing_access_key', 'info': 'You have not supplied an API Access Key. [Required format: access_key=YOUR_ACCESS_KEY]'}}\n"
     ]
    }
   ],
   "source": [
    "\n",
    "import requests\n",
    "\n",
    "base_url = \"http://api.weatherstack.com/current\"\n",
    "#api_key = \"4a9757484a22f82447a36cf764ab1c15\"\n",
    "\n",
    "def get_weather_info(city):\n",
    "    url = f\"{base_url}/weather/{city}\"\n",
    "    response = requests.get(url)\n",
    "\n",
    "    if response.status_code == 200:\n",
    "        weather_data = response.json()\n",
    "        return weather_data\n",
    "    else:\n",
    "        print(f\"Failed to retrieve data {response.status_code}\")\n",
    "\n",
    "city = \"London\"\n",
    "weather = get_weather_info(city)\n",
    "if weather:\n",
    "    print(weather)\n",
    "\n",
    "#pokemon_name = \"pikachu\"\n",
    "#pokemon_info = get_pokemon_info(pokemon_name)\n",
    "\n",
    "#if pokemon_info:\n",
    "   # print(f\"Name: {pokemon_info[\"name\"].capitalize()}\")\n",
    "    #print(f\"Id: {pokemon_info[\"id\"]}\")\n",
    "   # print(f\"Height: {pokemon_info[\"height\"]}\")\n",
    "   # print(f\"Weight: {pokemon_info[\"weight\"]}\")\n"
   ]
  },
  {
   "cell_type": "code",
   "execution_count": 23,
   "id": "3bf6cb14-f241-49e5-8902-017428d653e5",
   "metadata": {},
   "outputs": [
    {
     "name": "stdout",
     "output_type": "stream",
     "text": [
      "{'request': {'type': 'City', 'query': 'London, United Kingdom', 'language': 'en', 'unit': 'm'}, 'location': {'name': 'London', 'country': 'United Kingdom', 'region': 'City of London, Greater London', 'lat': '51.517', 'lon': '-0.106', 'timezone_id': 'Europe/London', 'localtime': '2025-01-09 07:53', 'localtime_epoch': 1736409180, 'utc_offset': '0.0'}, 'current': {'observation_time': '07:53 AM', 'temperature': 0, 'weather_code': 143, 'weather_icons': ['https://cdn.worldweatheronline.com/images/wsymbols01_png_64/wsymbol_0006_mist.png'], 'weather_descriptions': ['Mist'], 'wind_speed': 12, 'wind_degree': 18, 'wind_dir': 'NNE', 'pressure': 1004, 'precip': 0.2, 'humidity': 93, 'cloudcover': 0, 'feelslike': -3, 'uv_index': 0, 'visibility': 10, 'is_day': 'no'}}\n"
     ]
    }
   ],
   "source": [
    "import requests\n",
    "\n",
    "base_url = \"http://api.weatherstack.com/current\"\n",
    "api_key = \"4a9757484a22f82447a36cf764ab1c15\" \n",
    "\n",
    "def get_weather_info(city):\n",
    "    url = f\"{base_url}?access_key={api_key}&query={city}\"\n",
    "    response = requests.get(url)\n",
    "\n",
    "    if response.status_code == 200:\n",
    "        weather_data = response.json()\n",
    "        return weather_data\n",
    "    else:\n",
    "        print(f\"Failed to retrieve data. Status Code: {response.status_code}\")\n",
    "        print(response.text)  # Print the error message from the API\n",
    "\n",
    "# Example usage:\n",
    "city = \"London\"\n",
    "weather = get_weather_info(city)\n",
    "if weather:\n",
    "    print(weather)\n"
   ]
  },
  {
   "cell_type": "code",
   "execution_count": 53,
   "id": "20cf3e79-f5bb-4d62-a277-6a92a5ea699a",
   "metadata": {},
   "outputs": [],
   "source": [
    "# Save the weather data to a CSV file\n",
    "import pandas as pd\n",
    "\n",
    "\n",
    "# Convert the dictionary into a DataFrame\n",
    "df = pd.DataFrame(weather_data)\n",
    "\n",
    "# Save the DataFrame to a CSV file\n",
    "df.to_csv('weather_data.csv', index=False)\n"
   ]
  },
  {
   "cell_type": "code",
   "execution_count": 45,
   "id": "4aef5052-0230-4152-bc69-e53bcac80b29",
   "metadata": {},
   "outputs": [
    {
     "name": "stdout",
     "output_type": "stream",
     "text": [
      "{'request': {'type': 'City', 'query': 'London, United Kingdom', 'language': 'en', 'unit': 'm'}, 'location': {'name': 'London', 'country': 'United Kingdom', 'region': 'City of London, Greater London', 'lat': '51.517', 'lon': '-0.106', 'timezone_id': 'Europe/London', 'localtime': '2025-01-10 06:19', 'localtime_epoch': 1736489940, 'utc_offset': '0.0'}, 'current': {'observation_time': '06:19 AM', 'temperature': -3, 'weather_code': 260, 'weather_icons': ['https://cdn.worldweatheronline.com/images/wsymbols01_png_64/wsymbol_0007_fog.png'], 'weather_descriptions': ['Parftial Fog, Freezing Fog'], 'wind_speed': 4, 'wind_degree': 252, 'wind_dir': 'WSW', 'pressure': 1018, 'precip': 0, 'humidity': 93, 'cloudcover': 75, 'feelslike': -4, 'uv_index': 0, 'visibility': 10, 'is_day': 'no'}}\n",
      "Temperature: -3°C (Feelslike: -4°C)\n",
      "Weather: Parftial Fog, Freezing Fog\n",
      "Humidity: 93%\n",
      "Wind Speed: 4 km/h, Direction: WSW\n",
      "Pressure: 1018 hPa\n",
      "Visibility: 10 km\n",
      "UV Index: 0\n",
      "Cloud Cover: 75%\n"
     ]
    }
   ],
   "source": [
    "import requests\n",
    "\n",
    "\n",
    "base_url = \"http://api.weatherstack.com/current\"\n",
    "api_key = \"4a9757484a22f82447a36cf764ab1c15\" \n",
    "\n",
    "def get_weather_info(city):\n",
    "    url = f\"{base_url}?access_key={api_key}&query={city}\"\n",
    "    response = requests.get(url)\n",
    "\n",
    "    if response.status_code == 200:\n",
    "        weather_data = response.json()\n",
    "        return weather_data\n",
    "    else:\n",
    "        print(f\"Failed to retrieve data. Status Code: {response.status_code}\")\n",
    "        print(response.text)  # Print the error message from the API\n",
    "\n",
    "# Example usage:\n",
    "city = \"London\"\n",
    "weather = get_weather_info(city)\n",
    "if weather:\n",
    "    print(weather)\n",
    "\n",
    "#weather = get_weather_info(\"London\")\n",
    "\n",
    "if weather:\n",
    "    print(f\"Temperature: {weather['current']['temperature']}°C (Feelslike: {weather['current']['feelslike']}°C)\")\n",
    "    print(f\"Weather: {weather['current']['weather_descriptions'][0]}\")\n",
    "    print(f\"Humidity: {weather['current']['humidity']}%\")\n",
    "    print(f\"Wind Speed: {weather['current']['wind_speed']} km/h, Direction: {weather['current']['wind_dir']}\")\n",
    "    print(f\"Pressure: {weather['current']['pressure']} hPa\")\n",
    "    print(f\"Visibility: {weather['current']['visibility']} km\")\n",
    "    print(f\"UV Index: {weather['current']['uv_index']}\")\n",
    "    print(f\"Cloud Cover: {weather['current']['cloudcover']}%\")\n",
    "  \n",
    "\n"
   ]
  },
  {
   "cell_type": "code",
   "execution_count": 59,
   "id": "e10bbe45-9577-4917-b1ce-08bfaad6b663",
   "metadata": {},
   "outputs": [
    {
     "name": "stdout",
     "output_type": "stream",
     "text": [
      "{'request': {'type': 'City', 'query': 'Paris, France', 'language': 'en', 'unit': 'm'}, 'location': {'name': 'Paris', 'country': 'France', 'region': 'Ile-de-France', 'lat': '48.867', 'lon': '2.333', 'timezone_id': 'Europe/Paris', 'localtime': '2025-01-10 08:07', 'localtime_epoch': 1736496420, 'utc_offset': '1.0'}, 'current': {'observation_time': '07:07 AM', 'temperature': 2, 'weather_code': 113, 'weather_icons': ['https://cdn.worldweatheronline.com/images/wsymbols01_png_64/wsymbol_0008_clear_sky_night.png'], 'weather_descriptions': ['Clear'], 'wind_speed': 7, 'wind_degree': 193, 'wind_dir': 'SSW', 'pressure': 1019, 'precip': 0, 'humidity': 100, 'cloudcover': 0, 'feelslike': 0, 'uv_index': 0, 'visibility': 10, 'is_day': 'no'}}\n",
      "Temperature: 2°C (Feelslike: 0°C)\n",
      "Weather: Clear\n",
      "Humidity: 100%\n",
      "Wind Speed: 7 km/h, Direction: SSW\n",
      "Pressure: 1019 hPa\n",
      "Visibility: 10 km\n",
      "UV Index: 0\n",
      "Cloud Cover: 0%\n"
     ]
    }
   ],
   "source": [
    "import requests\n",
    "\n",
    "\n",
    "base_url = \"http://api.weatherstack.com/current\"\n",
    "api_key = \"4a9757484a22f82447a36cf764ab1c15\" \n",
    "\n",
    "def get_weather_info(city):\n",
    "    url = f\"{base_url}?access_key={api_key}&query={city}\"\n",
    "    response = requests.get(url)\n",
    "\n",
    "    if response.status_code == 200:\n",
    "        weather_data = response.json()\n",
    "        return weather_data\n",
    "    else:\n",
    "        print(f\"Failed to retrieve data. Status Code: {response.status_code}\")\n",
    "        print(response.text)  # Print the error message from the API\n",
    "\n",
    "# Example usage:\n",
    "city = \"Paris\"\n",
    "weather = get_weather_info(city)\n",
    "if weather:\n",
    "    print(weather)\n",
    "\n",
    "\n",
    "if weather:\n",
    "    print(f\"Temperature: {weather['current']['temperature']}°C (Feelslike: {weather['current']['feelslike']}°C)\")\n",
    "    print(f\"Weather: {weather['current']['weather_descriptions'][0]}\")\n",
    "    print(f\"Humidity: {weather['current']['humidity']}%\")\n",
    "    print(f\"Wind Speed: {weather['current']['wind_speed']} km/h, Direction: {weather['current']['wind_dir']}\")\n",
    "    print(f\"Pressure: {weather['current']['pressure']} hPa\")\n",
    "    print(f\"Visibility: {weather['current']['visibility']} km\")\n",
    "    print(f\"UV Index: {weather['current']['uv_index']}\")\n",
    "    print(f\"Cloud Cover: {weather['current']['cloudcover']}%\")"
   ]
  },
  {
   "cell_type": "code",
   "execution_count": 69,
   "id": "ce83d89d-433f-4a30-a63c-25a172b5b447",
   "metadata": {},
   "outputs": [
    {
     "name": "stdout",
     "output_type": "stream",
     "text": [
      "Response for London:\n",
      "{'request': {'type': 'City', 'query': 'London, United Kingdom', 'language': 'en', 'unit': 'm'}, 'location': {'name': 'London', 'country': 'United Kingdom', 'region': 'City of London, Greater London', 'lat': '51.517', 'lon': '-0.106', 'timezone_id': 'Europe/London', 'localtime': '2025-01-10 06:33', 'localtime_epoch': 1736490780, 'utc_offset': '0.0'}, 'current': {'observation_time': '06:33 AM', 'temperature': -3, 'weather_code': 260, 'weather_icons': ['https://cdn.worldweatheronline.com/images/wsymbols01_png_64/wsymbol_0007_fog.png'], 'weather_descriptions': ['Patches Of Fog, Freezing Fog'], 'wind_speed': 4, 'wind_degree': 252, 'wind_dir': 'WSW', 'pressure': 1018, 'precip': 0, 'humidity': 93, 'cloudcover': 75, 'feelslike': -4, 'uv_index': 0, 'visibility': 10, 'is_day': 'no'}}\n",
      "Response for Paris:\n",
      "{'request': {'type': 'City', 'query': 'Paris, France', 'language': 'en', 'unit': 'm'}, 'location': {'name': 'Paris', 'country': 'France', 'region': 'Ile-de-France', 'lat': '48.867', 'lon': '2.333', 'timezone_id': 'Europe/Paris', 'localtime': '2025-01-10 08:17', 'localtime_epoch': 1736497020, 'utc_offset': '1.0'}, 'current': {'observation_time': '07:17 AM', 'temperature': 2, 'weather_code': 113, 'weather_icons': ['https://cdn.worldweatheronline.com/images/wsymbols01_png_64/wsymbol_0008_clear_sky_night.png'], 'weather_descriptions': ['Clear'], 'wind_speed': 7, 'wind_degree': 193, 'wind_dir': 'SSW', 'pressure': 1019, 'precip': 0, 'humidity': 93, 'cloudcover': 0, 'feelslike': 0, 'uv_index': 0, 'visibility': 10, 'is_day': 'no'}}\n"
     ]
    },
    {
     "data": {
      "image/png": "[encoded data removed]",
      "text/plain": [
       "<Figure size 1200x600 with 2 Axes>"
      ]
     },
     "metadata": {},
     "output_type": "display_data"
    }
   ],
   "source": [
    "import requests\n",
    "import matplotlib.pyplot as plt\n",
    "import pandas as pd\n",
    "\n",
    "# WeatherStack API key\n",
    "base_url = \"http://api.weatherstack.com/current\"\n",
    "api_key = \"4a9757484a22f82447a36cf764ab1c15\" \n",
    "\n",
    "\n",
    "# Cities compared\n",
    "cities = [\"London\", \"Paris\"]\n",
    "weather_data = {}\n",
    "\n",
    "# weather data for each city\n",
    "for city in cities:\n",
    "    url = f\"http://api.weatherstack.com/current?access_key={api_key}&query={city}\"\n",
    "    response = requests.get(url)\n",
    "\n",
    "    # Checking if the response was successful\n",
    "    if response.status_code == 200:\n",
    "        data = response.json()\n",
    "        \n",
    "        # response to see the data structure\n",
    "        print(f\"Response for {city}:\")\n",
    "        print(data)\n",
    "        \n",
    "        # Ensure the 'current' key exists\n",
    "        if \"current\" in data:\n",
    "            weather_data[city] = {\n",
    "                \"Temperature (°C)\": data[\"current\"][\"temperature\"],\n",
    "                \"Humidity (%)\": data[\"current\"][\"humidity\"]\n",
    "            }\n",
    "        else:\n",
    "            print(f\"No 'current' data available for {city}\")\n",
    "    else:\n",
    "        print(f\"Error fetching data for {city}: {response.status_code}\")\n",
    "\n",
    "# Convert the data to a pandas DataFrame for easier handling\n",
    "if weather_data:\n",
    "    df = pd.DataFrame(weather_data).T  # Transpose to have cities as rows\n",
    "\n",
    "    # Plotting the data\n",
    "    fig, ax = plt.subplots(1, 2, figsize=(12, 6))\n",
    "\n",
    "    # Plot temperature comparison\n",
    "    ax[0].bar(df.index, df[\"Temperature (°C)\"], color=['skyblue', 'orange'])\n",
    "    ax[0].set_title('Temperature Comparison (°C)')\n",
    "    ax[0].set_ylabel('Temperature (°C)')\n",
    "\n",
    "    # Plot humidity comparison\n",
    "    ax[1].bar(df.index, df[\"Humidity (%)\"], color=['lightgreen', 'lightcoral'])\n",
    "    ax[1].set_title('Humidity Comparison (%)')\n",
    "    ax[1].set_ylabel('Humidity (%)')\n",
    "\n",
    "    # Show the plots\n",
    "    plt.tight_layout()\n",
    "    plt.show()\n",
    "else:\n",
    "    print(\"No weather data to plot.\")\n"
   ]
  },
  {
   "cell_type": "code",
   "execution_count": null,
   "id": "d6164ecd-6d68-470a-8bb4-4ac9febaf914",
   "metadata": {},
   "outputs": [],
   "source": []
  }
 ],
 "metadata": {
  "kernelspec": {
   "display_name": "Python 3 (ipykernel)",
   "language": "python",
   "name": "python3"
  },
  "language_info": {
   "codemirror_mode": {
    "name": "ipython",
    "version": 3
   },
   "file_extension": ".py",
   "mimetype": "text/x-python",
   "name": "python",
   "nbconvert_exporter": "python",
   "pygments_lexer": "ipython3",
   "version": "3.12.3"
  }
 },
 "nbformat": 4,
 "nbformat_minor": 5
}
